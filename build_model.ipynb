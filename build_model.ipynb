{
  "nbformat": 4,
  "nbformat_minor": 0,
  "metadata": {
    "colab": {
      "name": "phish.ipynb",
      "provenance": [],
      "collapsed_sections": [],
      "toc_visible": true
    },
    "kernelspec": {
      "name": "python3",
      "display_name": "Python 3"
    },
    "language_info": {
      "name": "python"
    }
  },
  "cells": [
    {
      "cell_type": "code",
      "metadata": {
        "id": "9NNPEqEVpA8Q"
      },
      "source": [
        "import pickle\n",
        "import matplotlib.pyplot as plt\n",
        "import numpy as np\n",
        "import pandas as pd\n",
        "import seaborn as sns\n",
        "from sklearn import metrics\n",
        "from sklearn import svm\n",
        "from sklearn.metrics import confusion_matrix\n",
        "from sklearn.model_selection import train_test_split, KFold\n",
        "from sklearn.preprocessing import OneHotEncoder\n",
        "from sklearn.neighbors import KNeighborsClassifier\n",
        "from sklearn.model_selection import GridSearchCV"
      ],
      "execution_count": 63,
      "outputs": []
    },
    {
      "cell_type": "code",
      "metadata": {
        "colab": {
          "base_uri": "https://localhost:8080/"
        },
        "id": "k-Y2pLOG49vd",
        "outputId": "4c66234c-68d1-495e-e95c-1ff5b97e3ce0"
      },
      "source": [
        "df = pd.read_csv('output.csv')\n",
        "X = df.iloc[:, 1:13]\n",
        "y = df.iloc[:, -1]\n",
        "print(X)\n",
        "print(y)"
      ],
      "execution_count": 64,
      "outputs": [
        {
          "output_type": "stream",
          "text": [
            "      long_url_len  has_at  ...  is_good_at_alexa_traffic  is_in_dns_record\n",
            "0                1       1  ...                         1                 1\n",
            "1                1       1  ...                         1                 1\n",
            "2                1       1  ...                         1                 1\n",
            "3                1       1  ...                         1                 1\n",
            "4                1       1  ...                         1                 1\n",
            "...            ...     ...  ...                       ...               ...\n",
            "1953             1       1  ...                         2                 1\n",
            "1954             1       1  ...                         2                 1\n",
            "1955             1       1  ...                         2                 1\n",
            "1956             1       1  ...                         2                 1\n",
            "1957             1       1  ...                         2                 1\n",
            "\n",
            "[1958 rows x 12 columns]\n",
            "0       2\n",
            "1       2\n",
            "2       2\n",
            "3       2\n",
            "4       2\n",
            "       ..\n",
            "1953    1\n",
            "1954    1\n",
            "1955    1\n",
            "1956    1\n",
            "1957    1\n",
            "Name: label, Length: 1958, dtype: int64\n"
          ],
          "name": "stdout"
        }
      ]
    },
    {
      "cell_type": "code",
      "metadata": {
        "id": "thKpfKhdprpd"
      },
      "source": [
        "X_train, X_test, y_train, y_test = train_test_split(X, y, test_size=0.2, random_state=13, stratify=y)\n",
        "\n",
        "X_train = X_train.to_numpy()\n",
        "X_test = X_test.to_numpy()\n",
        "y_train = y_train.to_numpy()\n",
        "y_test = y_test.to_numpy()"
      ],
      "execution_count": 65,
      "outputs": []
    },
    {
      "cell_type": "code",
      "metadata": {
        "id": "9-zTMeqNpvwZ"
      },
      "source": [
        "encoder = OneHotEncoder(sparse=False)\n",
        "X_train_onehot = encoder.fit_transform(X_train)\n",
        "X_test_onehot = encoder.transform(X_test)\n",
        "pickle.dump(encoder, open(\"one_hot_encoder\", 'wb'))"
      ],
      "execution_count": 67,
      "outputs": []
    },
    {
      "cell_type": "code",
      "metadata": {
        "colab": {
          "base_uri": "https://localhost:8080/"
        },
        "id": "rwXStzMap5h8",
        "outputId": "420c2f0f-f56e-4468-e80c-8b3b30712776"
      },
      "source": [
        "def grid_search_svm(X_train_onehot, y_train):\n",
        "    svc = svm.SVC()\n",
        "    parameters = {\n",
        "        'C': [0.1, 1, 10, 100, 1000],\n",
        "        'gamma': [10, 1, 0.1, 0.01, 0.001],\n",
        "        'kernel': ['rbf', 'linear']\n",
        "    }\n",
        "    clf = GridSearchCV(svc, parameters, cv=3)\n",
        "    clf_result = clf.fit(X_train_onehot, y_train)\n",
        "    return clf_result.best_params_\n",
        "\n",
        "\n",
        "best_params_svm = grid_search_svm(X_train_onehot, y_train)\n",
        "print('best_params_svm: ', best_params_svm)\n",
        "print(\"going to use: svm.SVC(C=10, gamma=0.1, kernel='rbf', probability=True)\")"
      ],
      "execution_count": 68,
      "outputs": [
        {
          "output_type": "stream",
          "text": [
            "best_params_svm:  {'C': 100, 'gamma': 0.1, 'kernel': 'rbf'}\n",
            "going to use: svm.SVC(C=10, gamma=0.1, kernel='rbf', probability=True)\n"
          ],
          "name": "stdout"
        }
      ]
    },
    {
      "cell_type": "code",
      "metadata": {
        "id": "dEaA3BtKxa0R"
      },
      "source": [
        "def plot_confusion_matrix(y_val, y_pred):\n",
        "    cm = confusion_matrix(y_val, y_pred, [2, 1])\n",
        "    group_names = ['True Neg','False Pos','False Neg','True Pos']\n",
        "    group_counts = [\"{0:0.0f}\".format(value) for value in cm.flatten()]\n",
        "    group_percentages = [\"{0:.2%}\".format(value) for value in cm.flatten()/np.sum(cm)]\n",
        "    labels = [f\"{v1}\\n{v2}\\n{v3}\" for v1, v2, v3 in zip(group_names,group_counts,group_percentages)]\n",
        "    labels = np.asarray(labels).reshape(2,2)\n",
        "    sns.heatmap(cm, annot=labels, fmt='', cmap='Blues')\n",
        "\n",
        "def get_metrics(model, y, X_onehot):\n",
        "    tp, fn, fp, tn = metrics.confusion_matrix(y, model.predict(X_onehot)).ravel()\n",
        "    accuracy = (tn + tp) / (fp + fn + tp + tn)\n",
        "    precision = tp / (tp + fp)\n",
        "    recall = tp / (tp + fn)\n",
        "    fpr = fp / (fp + tn)\n",
        "    f1 = 2 * precision * recall / (precision + recall)\n",
        "    return accuracy, precision, recall, fpr, f1"
      ],
      "execution_count": 77,
      "outputs": []
    },
    {
      "cell_type": "code",
      "metadata": {
        "colab": {
          "base_uri": "https://localhost:8080/",
          "height": 350
        },
        "id": "c9xTHKZQxgZb",
        "outputId": "795461ab-f9cd-47d7-9c45-096cd3bba1c9"
      },
      "source": [
        "def run_svm(X_train_onehot, y_train):\n",
        "    score = []\n",
        "    kf = KFold(n_splits=3, shuffle=True, random_state=709)\n",
        "    svc = svm.SVC(C=10, gamma=0.1, kernel='rbf', probability=True)\n",
        "    i = 0\n",
        "    for train, test in kf.split(X_train_onehot):\n",
        "        svc = svc.fit(X_train_onehot[train], y_train[train])\n",
        "        accuracy, precision, recall, fpr, f1 = get_metrics(svc, y_test, X_test_onehot)\n",
        "        score.append((accuracy, precision, recall, fpr, f1))\n",
        "        if i == 0:\n",
        "            plot_confusion_matrix(y_train[test], svc.predict(X_train_onehot[test]))\n",
        "            pickle.dump(svc, open(\"svm_model\", 'wb'))\n",
        "        i += 1\n",
        "    return np.mean(score, axis=0)\n",
        "\n",
        "\n",
        "metric_svm_scores = run_svm(X_train_onehot, y_train)\n",
        "print('accuracy: ', metric_svm_scores[0])\n",
        "print('precision: ', metric_svm_scores[1])\n",
        "print('recall: ', metric_svm_scores[2])\n",
        "print('fpr: ', metric_svm_scores[3])\n",
        "print('f1: ', metric_svm_scores[4])"
      ],
      "execution_count": 80,
      "outputs": [
        {
          "output_type": "stream",
          "text": [
            "accuracy:  0.9668367346938775\n",
            "precision:  0.9860626049650442\n",
            "recall:  0.9691780821917808\n",
            "fpr:  0.04\n",
            "f1:  0.9775454624075333\n"
          ],
          "name": "stdout"
        },
        {
          "output_type": "display_data",
          "data": {
            "image/png": "[encoded data removed]",
            "text/plain": [
              "<Figure size 432x288 with 2 Axes>"
            ]
          },
          "metadata": {
            "tags": [],
            "needs_background": "light"
          }
        }
      ]
    }
  ]
}